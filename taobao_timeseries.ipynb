{
 "cells": [
  {
   "cell_type": "code",
   "execution_count": 43,
   "metadata": {},
   "outputs": [],
   "source": [
    "import pandas as pd\n",
    "import numpy as np\n",
    "import matplotlib.pyplot as plt\n",
    "import datetime\n",
    "import matplotlib.ticker as mticker"
   ]
  },
  {
   "cell_type": "code",
   "execution_count": null,
   "metadata": {},
   "outputs": [],
   "source": [
    "# https://www.kaggle.com/datasets/marwa80/userbehavior?resource=download\n",
    "data_fn = '../data/taobao/UserBehavior.csv'\n",
    "headers = ['user_id', 'item_id',  'category_id', 'behavior_type', 'timestamp']\n",
    "df = pd.read_csv(data_fn, header=None, names=headers)"
   ]
  },
  {
   "cell_type": "code",
   "execution_count": 11,
   "metadata": {},
   "outputs": [
    {
     "data": {
      "text/html": [
       "<div>\n",
       "<style scoped>\n",
       "    .dataframe tbody tr th:only-of-type {\n",
       "        vertical-align: middle;\n",
       "    }\n",
       "\n",
       "    .dataframe tbody tr th {\n",
       "        vertical-align: top;\n",
       "    }\n",
       "\n",
       "    .dataframe thead th {\n",
       "        text-align: right;\n",
       "    }\n",
       "</style>\n",
       "<table border=\"1\" class=\"dataframe\">\n",
       "  <thead>\n",
       "    <tr style=\"text-align: right;\">\n",
       "      <th></th>\n",
       "      <th>user_id</th>\n",
       "      <th>item_id</th>\n",
       "      <th>category_id</th>\n",
       "      <th>behavior_type</th>\n",
       "      <th>timestamp</th>\n",
       "    </tr>\n",
       "  </thead>\n",
       "  <tbody>\n",
       "    <tr>\n",
       "      <th>0</th>\n",
       "      <td>1</td>\n",
       "      <td>2268318</td>\n",
       "      <td>2520377</td>\n",
       "      <td>pv</td>\n",
       "      <td>1511544070</td>\n",
       "    </tr>\n",
       "    <tr>\n",
       "      <th>1</th>\n",
       "      <td>1</td>\n",
       "      <td>2333346</td>\n",
       "      <td>2520771</td>\n",
       "      <td>pv</td>\n",
       "      <td>1511561733</td>\n",
       "    </tr>\n",
       "    <tr>\n",
       "      <th>2</th>\n",
       "      <td>1</td>\n",
       "      <td>2576651</td>\n",
       "      <td>149192</td>\n",
       "      <td>pv</td>\n",
       "      <td>1511572885</td>\n",
       "    </tr>\n",
       "    <tr>\n",
       "      <th>3</th>\n",
       "      <td>1</td>\n",
       "      <td>3830808</td>\n",
       "      <td>4181361</td>\n",
       "      <td>pv</td>\n",
       "      <td>1511593493</td>\n",
       "    </tr>\n",
       "    <tr>\n",
       "      <th>4</th>\n",
       "      <td>1</td>\n",
       "      <td>4365585</td>\n",
       "      <td>2520377</td>\n",
       "      <td>pv</td>\n",
       "      <td>1511596146</td>\n",
       "    </tr>\n",
       "    <tr>\n",
       "      <th>...</th>\n",
       "      <td>...</td>\n",
       "      <td>...</td>\n",
       "      <td>...</td>\n",
       "      <td>...</td>\n",
       "      <td>...</td>\n",
       "    </tr>\n",
       "    <tr>\n",
       "      <th>100150802</th>\n",
       "      <td>999999</td>\n",
       "      <td>4797808</td>\n",
       "      <td>11120</td>\n",
       "      <td>pv</td>\n",
       "      <td>1512293403</td>\n",
       "    </tr>\n",
       "    <tr>\n",
       "      <th>100150803</th>\n",
       "      <td>999999</td>\n",
       "      <td>4613472</td>\n",
       "      <td>4602841</td>\n",
       "      <td>pv</td>\n",
       "      <td>1512293766</td>\n",
       "    </tr>\n",
       "    <tr>\n",
       "      <th>100150804</th>\n",
       "      <td>999999</td>\n",
       "      <td>3647364</td>\n",
       "      <td>2304296</td>\n",
       "      <td>pv</td>\n",
       "      <td>1512293792</td>\n",
       "    </tr>\n",
       "    <tr>\n",
       "      <th>100150805</th>\n",
       "      <td>999999</td>\n",
       "      <td>1903801</td>\n",
       "      <td>2304296</td>\n",
       "      <td>pv</td>\n",
       "      <td>1512293827</td>\n",
       "    </tr>\n",
       "    <tr>\n",
       "      <th>100150806</th>\n",
       "      <td>999999</td>\n",
       "      <td>3696094</td>\n",
       "      <td>4602841</td>\n",
       "      <td>pv</td>\n",
       "      <td>1512293891</td>\n",
       "    </tr>\n",
       "  </tbody>\n",
       "</table>\n",
       "<p>100150807 rows × 5 columns</p>\n",
       "</div>"
      ],
      "text/plain": [
       "           user_id  item_id  category_id behavior_type   timestamp\n",
       "0                1  2268318      2520377            pv  1511544070\n",
       "1                1  2333346      2520771            pv  1511561733\n",
       "2                1  2576651       149192            pv  1511572885\n",
       "3                1  3830808      4181361            pv  1511593493\n",
       "4                1  4365585      2520377            pv  1511596146\n",
       "...            ...      ...          ...           ...         ...\n",
       "100150802   999999  4797808        11120            pv  1512293403\n",
       "100150803   999999  4613472      4602841            pv  1512293766\n",
       "100150804   999999  3647364      2304296            pv  1512293792\n",
       "100150805   999999  1903801      2304296            pv  1512293827\n",
       "100150806   999999  3696094      4602841            pv  1512293891\n",
       "\n",
       "[100150807 rows x 5 columns]"
      ]
     },
     "metadata": {},
     "output_type": "display_data"
    }
   ],
   "source": [
    "display(df)"
   ]
  },
  {
   "cell_type": "code",
   "execution_count": 115,
   "metadata": {},
   "outputs": [
    {
     "name": "stdout",
     "output_type": "stream",
     "text": [
      "11-24 12:36, 11-24 23:11, 10\n"
     ]
    }
   ],
   "source": [
    "min_range = np.percentile(df['timestamp'], 0.03)\n",
    "max_range = np.percentile(df['timestamp'], 1)\n",
    "\n",
    "bin_minutes = 60\n",
    "num_bins = int((max_range-min_range) // (bin_minutes * 60))\n",
    "print(datetime.datetime.utcfromtimestamp(min_range).strftime('%m-%d %H:%M,'), datetime.datetime.utcfromtimestamp(max_range).strftime('%m-%d %H:%M,'), num_bins)\n",
    "\n",
    "hist, bin_edges = np.histogram(df['timestamp'], density=False, bins=num_bins, range=(min_range, max_range))\n",
    "times = [datetime.datetime.utcfromtimestamp(timestamp).strftime('%m-%d %H:%M') for timestamp in np.arange(num_bins)*(60*bin_minutes)+min_range]"
   ]
  },
  {
   "cell_type": "code",
   "execution_count": 113,
   "metadata": {},
   "outputs": [
    {
     "data": {
      "image/png": "[encoded data removed]",
      "text/plain": [
       "<Figure size 640x480 with 1 Axes>"
      ]
     },
     "metadata": {},
     "output_type": "display_data"
    }
   ],
   "source": [
    "# synthetic data\n",
    "a = hist\n",
    "d = times\n",
    "\n",
    "# make figure + axes\n",
    "fig, ax = plt.subplots(tight_layout=True)\n",
    "ax.set_xlabel('date')\n",
    "ax.set_ylabel('count')\n",
    "\n",
    "# draw one line\n",
    "ln1, = ax.plot(hist)\n",
    "\n",
    "\n",
    "# helper function for the formatter\n",
    "def listifed_formatter(x, pos=None):\n",
    "    try:\n",
    "        return d[int(x)]\n",
    "    except IndexError:\n",
    "        return ''\n",
    "\n",
    "# make and use the formatter\n",
    "mt = mticker.FuncFormatter(listifed_formatter)\n",
    "ax.xaxis.set_major_formatter(mt)\n",
    "\n",
    "# set the default ticker to only put ticks on the integers\n",
    "loc = ax.xaxis.get_major_locator()\n",
    "loc.set_params(integer=True)\n",
    "\n",
    "# rotate the labels\n",
    "[lab.set_rotation(15) for lab in ax.get_xticklabels()]\n",
    "plt.show()"
   ]
  },
  {
   "cell_type": "code",
   "execution_count": null,
   "metadata": {},
   "outputs": [],
   "source": []
  }
 ],
 "metadata": {
  "kernelspec": {
   "display_name": "cbm",
   "language": "python",
   "name": "python3"
  },
  "language_info": {
   "codemirror_mode": {
    "name": "ipython",
    "version": 3
   },
   "file_extension": ".py",
   "mimetype": "text/x-python",
   "name": "python",
   "nbconvert_exporter": "python",
   "pygments_lexer": "ipython3",
   "version": "3.9.20"
  }
 },
 "nbformat": 4,
 "nbformat_minor": 2
}
